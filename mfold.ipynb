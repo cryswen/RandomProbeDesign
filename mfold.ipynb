{
 "cells": [
  {
   "cell_type": "code",
   "execution_count": 46,
   "metadata": {},
   "outputs": [],
   "source": [
    "import sys\n",
    "sys.path.append('/usr/local/lib/python3.6/site-packages')\n",
    "from selenium import webdriver\n",
    "import pandas as pd\n",
    "import requests\n",
    "import time\n",
    "from bs4 import BeautifulSoup"
   ]
  },
  {
   "cell_type": "code",
   "execution_count": 118,
   "metadata": {},
   "outputs": [],
   "source": [
    "\n",
    "# id_num = 'random104142'\n",
    "# seq = 'ccagtggtttagggcctggctaaaaacgct'\n",
    "NAconc = '0.330'\n",
    "temp = 30\n",
    "\n",
    "candidate_file = pd.read_csv('/Users/wenxu/Dropbox (GaTech)/McGrath/LabData/Wen/ProbeDesign/output_11word/blast_results_40.csv')\n",
    "\n",
    "ids = candidate_file['id']\n",
    "seqs = candidate_file['sequence']\n",
    "\n",
    "url = 'https://www.idtdna.com/calc/analyzer'\n",
    "driver = webdriver.Chrome(executable_path='/Users/wenxu/chromedriver')\n",
    "\n",
    "\n",
    "def mfold(id_num,seq):\n",
    "    driver.get(url)\n",
    "    name_box = driver.find_element_by_name('SEQ_NAME')\n",
    "    name_box.send_keys(id_num)\n",
    "    seq_box = driver.find_element_by_name('SEQUENCE')\n",
    "    seq_box.send_keys(seq)\n",
    "    NAconc_box = driver.find_element_by_name('NA_CONC')\n",
    "    NAconc_box.clear()\n",
    "    NAconc_box.send_keys(NAconc)\n",
    "    temp_box = driver.find_element_by_name('T')\n",
    "    temp_box.clear()\n",
    "    temp_box.send_keys(temp)\n",
    "    SUBMIT_XPATH = '//input[@type=\"submit\" and @value=\"Fold DNA\"]'\n",
    "    submit_button = driver.find_element_by_xpath(SUBMIT_XPATH)\n",
    "    submit_button.click()\n",
    "    time.sleep(5)\n",
    "    response = requests.get(driver.current_url)\n",
    "    html_page = response.content\n",
    "    parsed_html = BeautifulSoup(html_page,'html5lib')\n",
    "    all_links = parsed_html.find_all('a')\n",
    "    hits = []\n",
    "    for link in all_links:\n",
    "        if 'Structure' in link.getText():\n",
    "            hits.append(link.text)\n",
    "    n_structure = len(hits)-1\n",
    "    return driver.current_url,n_structure\n",
    "\n",
    "\n",
    "out_links = []\n",
    "n_structures = []\n",
    "\n",
    "for i in range(len(candidate_file)):\n",
    "    id_num = ids[i]\n",
    "    seq = seqs[i]\n",
    "    out_url,n_structure = mfold(id_num,seq)\n",
    "    out_links.append(out_url)\n",
    "    n_structures.append(n_structure)\n",
    "    print(str(i+1) + ': ' + id_num + ' folded. ' + str(n_sturcture) + ' structures found.')\n",
    "    "
   ]
  },
  {
   "cell_type": "code",
   "execution_count": 119,
   "metadata": {},
   "outputs": [],
   "source": [
    "df = pd.concat([candidate_file,pd.Series(out_links)],axis=1)\n",
    "df = pd.concat([df,pd.Series(n_structures)],axis=1)\n"
   ]
  },
  {
   "cell_type": "code",
   "execution_count": 120,
   "metadata": {},
   "outputs": [],
   "source": [
    "df.to_csv('mfold_out.csv')"
   ]
  },
  {
   "cell_type": "code",
   "execution_count": null,
   "metadata": {},
   "outputs": [],
   "source": []
  }
 ],
 "metadata": {
  "kernelspec": {
   "display_name": "Python 3",
   "language": "python",
   "name": "python3"
  },
  "language_info": {
   "codemirror_mode": {
    "name": "ipython",
    "version": 3
   },
   "file_extension": ".py",
   "mimetype": "text/x-python",
   "name": "python",
   "nbconvert_exporter": "python",
   "pygments_lexer": "ipython3",
   "version": "3.6.2"
  }
 },
 "nbformat": 4,
 "nbformat_minor": 2
}
